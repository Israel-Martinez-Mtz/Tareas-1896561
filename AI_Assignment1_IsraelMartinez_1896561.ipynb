{
  "nbformat": 4,
  "nbformat_minor": 0,
  "metadata": {
    "colab": {
      "provenance": [],
      "collapsed_sections": []
    },
    "kernelspec": {
      "name": "python3",
      "display_name": "Python 3"
    },
    "language_info": {
      "name": "python"
    }
  },
  "cells": [
    {
      "cell_type": "code",
      "source": [
        "# A2: Python Exercises Israel Martinez Martinez 1896561 N4"
      ],
      "metadata": {
        "id": "omcHc3nhnWsZ"
      },
      "execution_count": null,
      "outputs": []
    },
    {
      "cell_type": "code",
      "execution_count": null,
      "metadata": {
        "colab": {
          "base_uri": "https://localhost:8080/"
        },
        "id": "rLsU7H6E6Q1e",
        "outputId": "478266cf-42d2-45a5-ae0f-f55479606b72"
      },
      "outputs": [
        {
          "output_type": "stream",
          "name": "stdout",
          "text": [
            "Hey! What's your name?\n",
            "Introduce your name: Israel\n",
            "Hello Israel\n",
            "Hey! What's your name?\n",
            "Introduce your name: Joe\n",
            "I'll pass\n",
            "Hey! What's your name?\n"
          ]
        }
      ],
      "source": [
        "while True:\n",
        "  print(\"Hey! What's your name?\")\n",
        "  name = input(\"Introduce your name: \")\n",
        "  if name == \"Peter\":\n",
        "    print(f\"I'll pass\")\n",
        "  elif name == \"Joe\":\n",
        "    print(f\"I'll pass\")\n",
        "  elif name == \"Ana\":\n",
        "    print(f\"I'll pass\")\n",
        "  else:\n",
        "    print(f\"Hello {name}\")"
      ]
    },
    {
      "cell_type": "code",
      "source": [
        "ExampleList = [1, 3, 5, 7, 9]\n",
        "\n",
        "print(\"We have our list:\")\n",
        "\n",
        "print(*ExampleList)\n",
        "\n",
        "print(\"The last element is: \")\n",
        "print(ExampleList[-1] )\n",
        "print(\"Now, let's reverse our list.\") \n",
        "ExampleList.reverse()\n",
        "print(\"The last element of our reversed list is: \")\n",
        "print(ExampleList[-1] ) \n",
        "\n"
      ],
      "metadata": {
        "id": "MDaTngXPRqto"
      },
      "execution_count": null,
      "outputs": []
    },
    {
      "cell_type": "code",
      "source": [
        "input_string = input(\"Enter all your list elements separated by a comma: \")\n",
        "Example_List2 = input_string.split(\",\")\n",
        "print(\"Printing the list\")\n",
        "for elements in Example_List2:\n",
        "    print(elements)"
      ],
      "metadata": {
        "colab": {
          "base_uri": "https://localhost:8080/"
        },
        "id": "M8gp7zknhjhk",
        "outputId": "db357cac-8766-49f6-c2b4-1d0b9b419f45"
      },
      "execution_count": 33,
      "outputs": [
        {
          "output_type": "stream",
          "name": "stdout",
          "text": [
            "Enter all your list elements separated by a commaIt,seems,to,work\n",
            "Printing the list\n",
            "It\n",
            "seems\n",
            "to\n",
            "work\n"
          ]
        }
      ]
    },
    {
      "cell_type": "code",
      "source": [],
      "metadata": {
        "id": "0MIUk4x2hLJ6"
      },
      "execution_count": 17,
      "outputs": []
    }
  ]
}