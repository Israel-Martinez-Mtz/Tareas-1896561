{
  "nbformat": 4,
  "nbformat_minor": 0,
  "metadata": {
    "colab": {
      "provenance": [],
      "collapsed_sections": []
    },
    "kernelspec": {
      "name": "python3",
      "display_name": "Python 3"
    },
    "language_info": {
      "name": "python"
    }
  },
  "cells": [
    {
      "cell_type": "code",
      "source": [
        "# A2: Python Exercises Israel Martinez Martinez 1896561 N4"
      ],
      "metadata": {
        "id": "omcHc3nhnWsZ"
      },
      "execution_count": null,
      "outputs": []
    },
    {
      "cell_type": "code",
      "execution_count": 1,
      "metadata": {
        "id": "rLsU7H6E6Q1e",
        "colab": {
          "base_uri": "https://localhost:8080/"
        },
        "outputId": "a5fd973a-f637-41e7-baf7-0a06f94f3519"
      },
      "outputs": [
        {
          "name": "stdout",
          "output_type": "stream",
          "text": [
            "Hey! What's your name?\n",
            "Introduce your name: Israel\n",
            "Hello Israel\n",
            "Hey! What's your name?\n",
            "Introduce your name: Joe\n",
            "I'll pass\n",
            "Hey! What's your name?\n",
            "Introduce your name: exit\n"
          ]
        }
      ],
      "source": [
        "while True:\n",
        "  print(\"Hey! What's your name?\")\n",
        "  name = input(\"Introduce your name: \")\n",
        "  if name == \"Peter\":\n",
        "    print(f\"I'll pass\")\n",
        "  elif name == \"Joe\":\n",
        "    print(f\"I'll pass\")\n",
        "  elif name == \"Ana\":\n",
        "    print(f\"I'll pass\")\n",
        "  elif name == \"exit\":\n",
        "    break\n",
        "  else:\n",
        "    print(f\"Hello {name}\")"
      ]
    },
    {
      "cell_type": "code",
      "source": [
        "ExampleList = [1, 3, 5, 7, 9]\n",
        "\n",
        "print(\"We have our list:\")\n",
        "\n",
        "print(*ExampleList)\n",
        "\n",
        "print(\"The last element is: \")\n",
        "print(ExampleList[-1] )\n",
        "print(\"Now, let's reverse our list.\") \n",
        "ExampleList.reverse()\n",
        "print(\"The last element of our reversed list is: \")\n",
        "print(ExampleList[-1] ) \n",
        "\n"
      ],
      "metadata": {
        "id": "MDaTngXPRqto",
        "colab": {
          "base_uri": "https://localhost:8080/"
        },
        "outputId": "ab61efe3-bd82-443a-efc4-a560058fade8"
      },
      "execution_count": 2,
      "outputs": [
        {
          "output_type": "stream",
          "name": "stdout",
          "text": [
            "We have our list:\n",
            "1 3 5 7 9\n",
            "The last element is: \n",
            "9\n",
            "Now, let's reverse our list.\n",
            "The last element of our reversed list is: \n",
            "1\n"
          ]
        }
      ]
    },
    {
      "cell_type": "code",
      "source": [
        "input_string = input(\"Enter all your list elements separated by a comma: \")\n",
        "Example_List2 = input_string.split(\",\")\n",
        "print(\"Printing the list\")\n",
        "for elements in Example_List2:\n",
        "    print(elements)"
      ],
      "metadata": {
        "colab": {
          "base_uri": "https://localhost:8080/"
        },
        "id": "M8gp7zknhjhk",
        "outputId": "ad60eb3e-ab67-448f-b8b7-a7747fea6f08"
      },
      "execution_count": 3,
      "outputs": [
        {
          "output_type": "stream",
          "name": "stdout",
          "text": [
            "Enter all your list elements separated by a comma: It,seems,to,work\n",
            "Printing the list\n",
            "It\n",
            "seems\n",
            "to\n",
            "work\n"
          ]
        }
      ]
    },
    {
      "cell_type": "code",
      "source": [],
      "metadata": {
        "id": "0MIUk4x2hLJ6"
      },
      "execution_count": null,
      "outputs": []
    }
  ]
}